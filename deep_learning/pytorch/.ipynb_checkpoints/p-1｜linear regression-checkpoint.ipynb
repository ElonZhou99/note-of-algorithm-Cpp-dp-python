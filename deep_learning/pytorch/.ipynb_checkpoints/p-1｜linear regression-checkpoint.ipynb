{
 "cells": [
  {
   "cell_type": "markdown",
   "id": "single-variance",
   "metadata": {},
   "source": [
    "## 梯度下降算法\n",
    "### 目标：迭代函数的最低点 or loss函数的0点时的wight参数值\n",
    "- 深度学习通过梯度下降算法求解很复杂函数\n",
    "- 深度学习核心就是梯度下降\n",
    "- 通过梯度下降求loss函数的极值\n",
    "- $x^{'} = x- lr*\\Delta x$\n",
    "- $\\Delta x = f^{'}(x)$ 该点的倒数值\n",
    "- lr:学习率，要注意步长 （0.001以3倍变化）\n"
   ]
  },
  {
   "cell_type": "markdown",
   "id": "valid-silence",
   "metadata": {},
   "source": [
    "### 梯度下降求解器：\n",
    "- $x^{'}$不只通过上述公式更新，再考虑前进方向要不要和上一次迭代保持一致，加入等等约束得到不同的梯度下降求解器\n",
    "- sgd\n",
    "- momentum\n",
    "- nag\n",
    "- adagrad \n",
    "- adadelta\n",
    "- rmsprop"
   ]
  },
  {
   "cell_type": "markdown",
   "id": "unexpected-invitation",
   "metadata": {},
   "source": [
    "####  $y^*=w*x+b+ \\epsilon $\n",
    "- 加入高斯噪声提高泛化能力\n",
    "\n",
    "#### $loss=f(W,b)=(WX+b -y)^2$\n",
    "- ${loss}^{'}(W)=f^{'}(W)=2X(WX+b-y)$\n",
    "- ${loss}^{'}(b)=f^{'}(b)=(WX+b-y)$\n",
    "- 通过梯度下降求得loss函数的最小值\n",
    "- 使（预测值）$WX+b \\approx y$（真实值）\n",
    "\n"
   ]
  },
  {
   "cell_type": "markdown",
   "id": "attended-publication",
   "metadata": {},
   "source": [
    "## Linear Regression\n",
    "- 线性函数，预测线性问题，$y$取值是连续的\n",
    "### Logistic Regression\n",
    "- 在linear regression基础上加了激活函数（压缩函数）\n",
    "- 将$y$区间从无穷压缩到0-1\n",
    "- 转换为概率问题\n",
    "### Classification"
   ]
  },
  {
   "cell_type": "markdown",
   "id": "unable-anatomy",
   "metadata": {},
   "source": [
    "### Linear regression求解过程——求出loss函数最接近0时的W和b\n",
    "1. 随机初始化$W$和 $ b $ 的值\n",
    "2. 将数据中已知的特征$X$和标签$y$和初始化的$b$的值代入$loss^{'}（W）$求得$W^{'}$\n",
    "3. 将数据中已知的特征$X$和标签$y$和初始化的$W$的值代入$loss^{'}（b）$求得$b^{'}$\n",
    "- 注意一定要$W$和$b$一起更新，不能求出$W^{'}$后直接代入求$b^{'}$，而必须用上次的$W$去求\n",
    "- 这样才能求得真实的迭代方向的值\n",
    "4. 第一次迭代结果:$W^1=W+W^{'},b^1=b+b^{'}$\n",
    "- 每次迭代计算偏差方便观察$loss = (X+b-y)^2$\n",
    "5. 将$W^1,b^1$和数据中的特征$X$和标签$y$作为已知代入$loss^{'}（W）$，$loss^{'}（b）$继续迭代第二次"
   ]
  },
  {
   "cell_type": "code",
   "execution_count": 1,
   "id": "departmental-reservation",
   "metadata": {},
   "outputs": [
    {
     "ename": "ModuleNotFoundError",
     "evalue": "No module named 'pandas'",
     "output_type": "error",
     "traceback": [
      "\u001b[0;31m---------------------------------------------------------------------------\u001b[0m",
      "\u001b[0;31mModuleNotFoundError\u001b[0m                       Traceback (most recent call last)",
      "\u001b[0;32m<ipython-input-1-b709becac9fd>\u001b[0m in \u001b[0;36m<module>\u001b[0;34m\u001b[0m\n\u001b[1;32m      2\u001b[0m \u001b[0;32mimport\u001b[0m \u001b[0mnumpy\u001b[0m \u001b[0;32mas\u001b[0m \u001b[0mnp\u001b[0m\u001b[0;34m\u001b[0m\u001b[0;34m\u001b[0m\u001b[0m\n\u001b[1;32m      3\u001b[0m \u001b[0;32mimport\u001b[0m \u001b[0mtorch\u001b[0m\u001b[0;34m\u001b[0m\u001b[0;34m\u001b[0m\u001b[0m\n\u001b[0;32m----> 4\u001b[0;31m \u001b[0;32mimport\u001b[0m \u001b[0mpandas\u001b[0m \u001b[0;32mas\u001b[0m \u001b[0mpd\u001b[0m\u001b[0;34m\u001b[0m\u001b[0;34m\u001b[0m\u001b[0m\n\u001b[0m",
      "\u001b[0;31mModuleNotFoundError\u001b[0m: No module named 'pandas'"
     ]
    }
   ],
   "source": [
    "import matplotlib as plt\n",
    "import numpy as np\n",
    "import torch \n",
    "import pandas as pd "
   ]
  },
  {
   "cell_type": "code",
   "execution_count": null,
   "id": "after-boost",
   "metadata": {},
   "outputs": [],
   "source": []
  },
  {
   "cell_type": "code",
   "execution_count": null,
   "id": "polyphonic-superintendent",
   "metadata": {},
   "outputs": [],
   "source": []
  },
  {
   "cell_type": "code",
   "execution_count": null,
   "id": "central-pressure",
   "metadata": {},
   "outputs": [],
   "source": []
  },
  {
   "cell_type": "code",
   "execution_count": null,
   "id": "integral-samba",
   "metadata": {},
   "outputs": [],
   "source": []
  }
 ],
 "metadata": {
  "kernelspec": {
   "display_name": "Python 3",
   "language": "python",
   "name": "python3"
  },
  "language_info": {
   "codemirror_mode": {
    "name": "ipython",
    "version": 3
   },
   "file_extension": ".py",
   "mimetype": "text/x-python",
   "name": "python",
   "nbconvert_exporter": "python",
   "pygments_lexer": "ipython3",
   "version": "3.8.3"
  }
 },
 "nbformat": 4,
 "nbformat_minor": 5
}
